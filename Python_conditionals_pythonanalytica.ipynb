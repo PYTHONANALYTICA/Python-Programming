{
 "cells": [
  {
   "cell_type": "code",
   "execution_count": 2,
   "id": "4976e40e",
   "metadata": {},
   "outputs": [
    {
     "name": "stdout",
     "output_type": "stream",
     "text": [
      "this is part of if block\n"
     ]
    }
   ],
   "source": [
    "x = 6\n",
    "if x > 2:\n",
    "    print(\"this is part of if block\")\n",
    "else:\n",
    "    print(\"this ia the part of else block\")"
   ]
  },
  {
   "cell_type": "code",
   "execution_count": 5,
   "id": "2689496f",
   "metadata": {},
   "outputs": [
    {
     "name": "stdout",
     "output_type": "stream",
     "text": [
      "50\n"
     ]
    }
   ],
   "source": [
    "country = 'France'\n",
    "continent = 'Éurope'\n",
    "if continent == 'Éurope': #first condition\n",
    "\tif country == 'Germany':  #second condition\n",
    "\t\tshipping_charge = 20\n",
    "\telse:\n",
    "\t\tshipping_charge = 50\n",
    "else:\n",
    "\tprint('This country is not in Europe')\n",
    "    \n",
    "print(shipping_charge)"
   ]
  },
  {
   "cell_type": "code",
   "execution_count": 6,
   "id": "4478cdd6",
   "metadata": {},
   "outputs": [
    {
     "name": "stdout",
     "output_type": "stream",
     "text": [
      "Good work!\n"
     ]
    }
   ],
   "source": [
    "percentage_got = 75\n",
    "if percentage_got > 50 and percentage_got < 60:\n",
    "\t\tprint('More work needed')\n",
    "elif percentage_got > 60 and percentage_got < 70:\n",
    "\t\tprint('Satisficatory')\n",
    "elif percentage_got > 70 and percentage_got < 80:\n",
    "\t\tprint('Good work!')\n",
    "elif percentage_got > 80 and percentage_got < 90:\n",
    "\t\tprint('Excellent')\n",
    "elif percentage_got > 90 and percentage_got < 100:\n",
    "\t\tprint('Top 10%')\n",
    "else:\n",
    "\t\tprint('bad performance')"
   ]
  },
  {
   "cell_type": "code",
   "execution_count": 8,
   "id": "dedd3e0e",
   "metadata": {},
   "outputs": [
    {
     "name": "stdout",
     "output_type": "stream",
     "text": [
      "éven\n"
     ]
    }
   ],
   "source": [
    "num = 56\n",
    "if num%2 == 0: print('éven')\n",
    "else: print('odd')"
   ]
  },
  {
   "cell_type": "code",
   "execution_count": 12,
   "id": "0074e4a7",
   "metadata": {},
   "outputs": [
    {
     "name": "stdout",
     "output_type": "stream",
     "text": [
      "This numbere is inside range of 2 and 5\n"
     ]
    }
   ],
   "source": [
    "num = 3\n",
    "if (num > 2) and (num < 5):\n",
    "\t\tprint('This numbere is inside range of 2 and 5')\n",
    "\n",
    "elif num == '3' or num == '4':\n",
    "\t\tprint('This number is eather 3 or 5')\n",
    "\n",
    "else:\n",
    "\tprint('The number is outside the range of 2 and 5')"
   ]
  },
  {
   "cell_type": "code",
   "execution_count": 14,
   "id": "856f0fd3",
   "metadata": {},
   "outputs": [
    {
     "name": "stdout",
     "output_type": "stream",
     "text": [
      "Not Found\n"
     ]
    }
   ],
   "source": [
    "error_code = 404\n",
    "if error_code == 304:\n",
    "\t\tprint('Not Modified')\n",
    "elif error_code == 404:\n",
    "\t\tprint('Not Found')\n",
    "elif error_code == 504:\n",
    "\t\tprint('Gateway Timeout')\n",
    "else:\n",
    "\t\tprint('Other issue')"
   ]
  },
  {
   "cell_type": "code",
   "execution_count": 1,
   "id": "a8711e88",
   "metadata": {},
   "outputs": [
    {
     "ename": "SyntaxError",
     "evalue": "invalid syntax (conda_tmp/ipykernel_608/3973511227.py, line 2)",
     "output_type": "error",
     "traceback": [
      "\u001b[1;36m  File \u001b[1;32m\"C:\\conda_tmp/ipykernel_608/3973511227.py\"\u001b[1;36m, line \u001b[1;32m2\u001b[0m\n\u001b[1;33m    match 'argument':\u001b[0m\n\u001b[1;37m          ^\u001b[0m\n\u001b[1;31mSyntaxError\u001b[0m\u001b[1;31m:\u001b[0m invalid syntax\n"
     ]
    }
   ],
   "source": [
    "argument = 3\n",
    "match argument:\n",
    "\tcase 0:\n",
    "\t\tprint('This is match case for 0 argument')\n",
    "\tcase 1:\n",
    "\t\tprint('This is match case for 1 argument')\n",
    "\tcase 2:\n",
    "\t\tprint('This is match case for 2 argument')\n",
    "\tcase 3:\n",
    "\t\tprint('This is match case for 3 argument')"
   ]
  },
  {
   "cell_type": "code",
   "execution_count": 2,
   "id": "9c02a43e",
   "metadata": {},
   "outputs": [
    {
     "name": "stdout",
     "output_type": "stream",
     "text": [
      "[2, 4, 12, 30]\n"
     ]
    }
   ],
   "source": [
    "List_l1 = [2, 4, 5, 7, 12, 30]\n",
    "output = [even for even in List_l1 if even%2 == 0]\n",
    "print(output)"
   ]
  },
  {
   "cell_type": "code",
   "execution_count": 4,
   "id": "3cad4749",
   "metadata": {},
   "outputs": [
    {
     "name": "stdout",
     "output_type": "stream",
     "text": [
      "Äddition of two numbers:  20\n",
      "Substraction of two numbers:  -10\n",
      "Multiplication of two numbers:  75\n"
     ]
    }
   ],
   "source": [
    "def Addition(a,b):   #defining function Addition()\n",
    "\t\toutput = a + b\n",
    "\t\tprint(\"Äddition of two numbers: \", output)\n",
    "\n",
    "def Subtraction(a,b):    # defining function Substraction()\n",
    "\t\toutput = a - b\n",
    "\t\tprint(\"Substraction of two numbers: \", output)\n",
    "\n",
    "def Multiplication(a,b):   #defining function Multiplication()\n",
    "\t\toutput = a*b\n",
    "\t\tprint(\"Multiplication of two numbers: \", output)\n",
    "\n",
    "\n",
    "x = 5\n",
    "y = 15\n",
    "Addition(x,y)     # calling function addition\n",
    "Subtraction(x,y)   # calling function Substraction\n",
    "Multiplication(x,y)    # calling function multiplication"
   ]
  },
  {
   "cell_type": "code",
   "execution_count": null,
   "id": "31a56eda",
   "metadata": {},
   "outputs": [],
   "source": []
  }
 ],
 "metadata": {
  "kernelspec": {
   "display_name": "Python 3 (ipykernel)",
   "language": "python",
   "name": "python3"
  },
  "language_info": {
   "codemirror_mode": {
    "name": "ipython",
    "version": 3
   },
   "file_extension": ".py",
   "mimetype": "text/x-python",
   "name": "python",
   "nbconvert_exporter": "python",
   "pygments_lexer": "ipython3",
   "version": "3.9.7"
  }
 },
 "nbformat": 4,
 "nbformat_minor": 5
}
