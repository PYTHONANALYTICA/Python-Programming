{
 "cells": [
  {
   "cell_type": "code",
   "execution_count": 1,
   "id": "029a0a2f",
   "metadata": {},
   "outputs": [
    {
     "name": "stdout",
     "output_type": "stream",
     "text": [
      "blue\n",
      "black\n",
      "grey\n"
     ]
    }
   ],
   "source": [
    "list = ['blue', 'black', 'grey'] #list is a type of inbuilt data structure\n",
    "for i in list:   #Syntax of for loop, here i works as iterator\n",
    "\tprint(i)"
   ]
  },
  {
   "cell_type": "code",
   "execution_count": 5,
   "id": "9ffb72db",
   "metadata": {},
   "outputs": [
    {
     "name": "stdout",
     "output_type": "stream",
     "text": [
      "Hello_WOrld 0\n",
      "Hello_WOrld 1\n",
      "Hello_WOrld 2\n",
      "Hello_WOrld 3\n",
      "Hello_WOrld 4\n",
      "This is outside the while block\n"
     ]
    }
   ],
   "source": [
    "x = 0\n",
    "while x < 5:  #while condition this loop will work until this condition is true\n",
    "\tprint('Hello_WOrld', x)  #block of code \n",
    "\tx = x + 1\n",
    "\n",
    "print('This is outside the while block')"
   ]
  },
  {
   "cell_type": "code",
   "execution_count": null,
   "id": "cae8150c",
   "metadata": {},
   "outputs": [],
   "source": [
    "#Please do not execute\n",
    "x  = 0\n",
    "while x == 0:\n",
    "\tprint('Helloow World!')  #this print will execute again and again\n",
    "    break\n",
    "print(\"This will not work\") # as program will never came outside a while loop this will never work"
   ]
  },
  {
   "cell_type": "code",
   "execution_count": 7,
   "id": "1da2b5ff",
   "metadata": {},
   "outputs": [
    {
     "name": "stdout",
     "output_type": "stream",
     "text": [
      "the color is blue\n",
      "the color is orange\n",
      "the color is yellow\n",
      "the color is pink\n",
      "This statement is outside the for loop\n"
     ]
    }
   ],
   "source": [
    "list = ['blue', 'orange', 'yellow', 'pink']\n",
    "for i in list:\n",
    "\tif i == 'blue':\n",
    "\t\tprint('the color is blue')\n",
    "\telif i == 'orange':\n",
    "\t\tprint('the color is orange')\n",
    "\telif i == 'yellow':\n",
    "\t\tprint('the color is yellow')\n",
    "\telse:\n",
    "\t\tprint('the color is pink')\n",
    "\n",
    "print('This statement is outside the for loop')"
   ]
  },
  {
   "cell_type": "code",
   "execution_count": 9,
   "id": "20d80ff4",
   "metadata": {},
   "outputs": [
    {
     "name": "stdout",
     "output_type": "stream",
     "text": [
      "32\n",
      "44\n",
      "45\n",
      "This is else statement executed after for loop\n"
     ]
    }
   ],
   "source": [
    "#Else with for loop\n",
    "lst = [32, 44, 45]\n",
    "for i in lst:\n",
    "\tprint(i)\n",
    "else:\n",
    "\tprint('This is else statement executed after for loop')"
   ]
  },
  {
   "cell_type": "code",
   "execution_count": 11,
   "id": "edecf921",
   "metadata": {},
   "outputs": [
    {
     "name": "stdout",
     "output_type": "stream",
     "text": [
      "Even Number 0\n",
      "Odd Number 1\n",
      "Even Number 2\n",
      "Odd Number 3\n",
      "Even Number 4\n",
      "This statement is outside while loop\n"
     ]
    }
   ],
   "source": [
    "#Conditionals in while loop\n",
    "x = 0\n",
    "while x < 5:\n",
    "\tif x % 2 == 0:\n",
    "\t\t\tprint('Even Number', x)\n",
    "\telse:\n",
    "\t\t\tprint('Odd Number', x)\n",
    "\tx = x + 1\n",
    "\n",
    "print('This statement is outside while loop')"
   ]
  },
  {
   "cell_type": "code",
   "execution_count": 14,
   "id": "a6ebb8a6",
   "metadata": {},
   "outputs": [
    {
     "name": "stdout",
     "output_type": "stream",
     "text": [
      "0\n",
      "1\n",
      "2\n",
      "This is else for while loop\n"
     ]
    }
   ],
   "source": [
    "#Else with wile loop\n",
    "x = 0\n",
    "while(x < 3):\n",
    "\tprint(x)\n",
    "\tx = x + 1\n",
    "\n",
    "else:\n",
    "\tprint('This is else for while loop')"
   ]
  },
  {
   "cell_type": "code",
   "execution_count": 15,
   "id": "bf03312e",
   "metadata": {},
   "outputs": [
    {
     "name": "stdout",
     "output_type": "stream",
     "text": [
      "index of i is 3\n",
      "index of i is 4\n"
     ]
    }
   ],
   "source": [
    "#Nested for loop:\n",
    "find = [67, 58]\n",
    "numbers = [43, 44, 56, 67, 58, 89]\n",
    "#need to findout index of numbers of find list in numbers list\n",
    "for i in find:\n",
    "\tfor j in numbers:\n",
    "\t\t\tif i == j:\n",
    "\t\t\t\t\tprint('index of i is', numbers.index(j))"
   ]
  },
  {
   "cell_type": "code",
   "execution_count": 11,
   "id": "9b6e1c28",
   "metadata": {},
   "outputs": [
    {
     "name": "stdout",
     "output_type": "stream",
     "text": [
      "1 0\n",
      "1 1\n",
      "1 2\n",
      "2 0\n",
      "2 1\n",
      "2 2\n"
     ]
    }
   ],
   "source": [
    "#Nested while loop\n",
    "x = 1\n",
    "while x < 3:\n",
    "    y = 0\n",
    "    while y < 3:\n",
    "\n",
    "        print(x, y)\n",
    "        y = y + 1\n",
    "    x = x + 1"
   ]
  },
  {
   "cell_type": "code",
   "execution_count": 12,
   "id": "443bb189",
   "metadata": {},
   "outputs": [
    {
     "name": "stdout",
     "output_type": "stream",
     "text": [
      "0\n",
      "1\n",
      "2\n",
      "3\n",
      "4\n",
      "5\n"
     ]
    }
   ],
   "source": [
    "for i in range(6):\n",
    "      print(i)"
   ]
  },
  {
   "cell_type": "code",
   "execution_count": 13,
   "id": "a5dda1cc",
   "metadata": {},
   "outputs": [
    {
     "name": "stdout",
     "output_type": "stream",
     "text": [
      "1\n",
      "2\n",
      "3\n",
      "4\n",
      "5\n"
     ]
    }
   ],
   "source": [
    "for i in range(1,6):\n",
    "       print(i)"
   ]
  },
  {
   "cell_type": "code",
   "execution_count": 14,
   "id": "2ec32661",
   "metadata": {},
   "outputs": [
    {
     "name": "stdout",
     "output_type": "stream",
     "text": [
      "0\n",
      "2\n",
      "4\n"
     ]
    }
   ],
   "source": [
    "for i in range(0,6,2):\n",
    "        print(i)"
   ]
  },
  {
   "cell_type": "code",
   "execution_count": 16,
   "id": "940f1305",
   "metadata": {},
   "outputs": [
    {
     "name": "stdout",
     "output_type": "stream",
     "text": [
      "529\n",
      "1936\n",
      "3136\n",
      "6084\n",
      "9801\n"
     ]
    }
   ],
   "source": [
    "lst = [ 23, 44, 56, 78, 99]\n",
    "itr_obj = iter(lst)\n",
    "while len(lst) > 0:\n",
    "\ttry:\n",
    "\t\titr = next(itr_obj)\n",
    "\t\titr = itr * itr  # we can add any functionality here\n",
    "\t\tprint(itr)\n",
    "\texcept StopIteration:\n",
    "\t\tbreak # this will take us out of infinite while"
   ]
  },
  {
   "cell_type": "code",
   "execution_count": 18,
   "id": "a9692110",
   "metadata": {},
   "outputs": [
    {
     "name": "stdout",
     "output_type": "stream",
     "text": [
      "22\n",
      "33\n",
      "44\n"
     ]
    }
   ],
   "source": [
    "#Example of break statement\n",
    "lst = [ 22, 33, 44, 55, 66, 77]\n",
    "for i in lst:\n",
    "\tif i == 55:\n",
    "\t\tbreak #after 44 nothing will be executed\n",
    "\telse:\n",
    "\t\tprint(i)"
   ]
  },
  {
   "cell_type": "code",
   "execution_count": 20,
   "id": "8fce795b",
   "metadata": {},
   "outputs": [
    {
     "name": "stdout",
     "output_type": "stream",
     "text": [
      "22\n",
      "33\n",
      "44\n",
      "66\n",
      "77\n"
     ]
    }
   ],
   "source": [
    "#Example of continue statement\n",
    "lst = [ 22, 33, 44, 55, 66, 77]\n",
    "for i in lst:\n",
    "\tif i == 55:\n",
    "\t\tcontinue #55 will be skipped and others will be printed\n",
    "\telse:\n",
    "\t\tprint(i)"
   ]
  },
  {
   "cell_type": "code",
   "execution_count": 21,
   "id": "95f5abc1",
   "metadata": {},
   "outputs": [
    {
     "name": "stdout",
     "output_type": "stream",
     "text": [
      "this is outside the for loop\n"
     ]
    }
   ],
   "source": [
    "#Example of Pass statement\n",
    "lst = [ 22, 33, 44, 55, 66, 77]\n",
    "for i in lst:\n",
    "\tpass # a empty for loop did nothing\n",
    "else:\n",
    "\tprint('this is outside the for loop')"
   ]
  },
  {
   "cell_type": "code",
   "execution_count": 32,
   "id": "608eedb2",
   "metadata": {},
   "outputs": [
    {
     "name": "stdout",
     "output_type": "stream",
     "text": [
      "List\n",
      "orange\n",
      "mango\n",
      "apple\n",
      "kiwi\n",
      "\n",
      "Set\n",
      "three\n",
      "one\n",
      "two\n",
      "\n",
      "Tuple\n",
      "one\n",
      "three\n",
      "two\n",
      "\n",
      "Dictionary\n",
      "one 1\n",
      "two 2\n",
      "three 3\n",
      "four 4\n"
     ]
    }
   ],
   "source": [
    "#Examples\n",
    "#List \n",
    "Lst = ['orange', 'mango', 'apple', 'kiwi']\n",
    "print('List')\n",
    "for i in Lst:\n",
    "    print(i)\n",
    "\n",
    "#Set \n",
    "S1 =  {'one', 'three', 'two'}\n",
    "print('\\nSet')\n",
    "for i in S1: \n",
    "    print(i)\n",
    "\n",
    "#Tuple\n",
    "tup = ('one', 'three', 'two')\n",
    "print('\\nTuple')\n",
    "for i in tup:\n",
    "\tprint(i)\n",
    "\n",
    "#Dictionary\n",
    "dct = { 'one': 1, 'two':2, 'three': 3, 'four':4}\n",
    "print('\\nDictionary')\n",
    "for i in dct:\n",
    "\tprint(i, dct[i])"
   ]
  },
  {
   "cell_type": "code",
   "execution_count": null,
   "id": "8d1eb3e3",
   "metadata": {},
   "outputs": [],
   "source": []
  }
 ],
 "metadata": {
  "kernelspec": {
   "display_name": "Python 3 (ipykernel)",
   "language": "python",
   "name": "python3"
  },
  "language_info": {
   "codemirror_mode": {
    "name": "ipython",
    "version": 3
   },
   "file_extension": ".py",
   "mimetype": "text/x-python",
   "name": "python",
   "nbconvert_exporter": "python",
   "pygments_lexer": "ipython3",
   "version": "3.9.7"
  }
 },
 "nbformat": 4,
 "nbformat_minor": 5
}
